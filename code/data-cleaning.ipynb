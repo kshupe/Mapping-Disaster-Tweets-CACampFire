{
 "cells": [
  {
   "cell_type": "markdown",
   "metadata": {},
   "source": [
    "# Cleaning the Tweets for EDA"
   ]
  },
  {
   "cell_type": "markdown",
   "metadata": {},
   "source": [
    "## Imports"
   ]
  },
  {
   "cell_type": "code",
   "execution_count": 238,
   "metadata": {
    "ExecuteTime": {
     "end_time": "2020-05-09T19:30:40.110352Z",
     "start_time": "2020-05-09T19:30:40.107596Z"
    }
   },
   "outputs": [],
   "source": [
    "import pandas as pd\n",
    "from collections import Counter"
   ]
  },
  {
   "cell_type": "code",
   "execution_count": 239,
   "metadata": {
    "ExecuteTime": {
     "end_time": "2020-05-09T19:30:41.318002Z",
     "start_time": "2020-05-09T19:30:41.203121Z"
    }
   },
   "outputs": [],
   "source": [
    "# READ CSV \n",
    "df = pd.read_csv(\"../datasets/raw_df.csv\")"
   ]
  },
  {
   "cell_type": "markdown",
   "metadata": {},
   "source": [
    "## Clean Data"
   ]
  },
  {
   "cell_type": "markdown",
   "metadata": {},
   "source": [
    "### Remove Unnecessary Columns"
   ]
  },
  {
   "cell_type": "markdown",
   "metadata": {},
   "source": [
    "Only the `username` and `text` columns will be kept."
   ]
  },
  {
   "cell_type": "code",
   "execution_count": 240,
   "metadata": {
    "ExecuteTime": {
     "end_time": "2020-05-09T19:30:43.384140Z",
     "start_time": "2020-05-09T19:30:43.372489Z"
    },
    "scrolled": true
   },
   "outputs": [
    {
     "data": {
      "text/html": [
       "<div>\n",
       "<style scoped>\n",
       "    .dataframe tbody tr th:only-of-type {\n",
       "        vertical-align: middle;\n",
       "    }\n",
       "\n",
       "    .dataframe tbody tr th {\n",
       "        vertical-align: top;\n",
       "    }\n",
       "\n",
       "    .dataframe thead th {\n",
       "        text-align: right;\n",
       "    }\n",
       "</style>\n",
       "<table border=\"1\" class=\"dataframe\">\n",
       "  <thead>\n",
       "    <tr style=\"text-align: right;\">\n",
       "      <th></th>\n",
       "      <th>username</th>\n",
       "      <th>text</th>\n",
       "    </tr>\n",
       "  </thead>\n",
       "  <tbody>\n",
       "    <tr>\n",
       "      <th>0</th>\n",
       "      <td>Mult Co Fire/EMS log</td>\n",
       "      <td>MED - MEDICAL at 700 BLOCK OF NE 78TH AVE, POR...</td>\n",
       "    </tr>\n",
       "    <tr>\n",
       "      <th>1</th>\n",
       "      <td>Mult Co Fire/EMS log</td>\n",
       "      <td>MED - MEDICAL at SE 32ND AVE / SE JOHNSON CREE...</td>\n",
       "    </tr>\n",
       "    <tr>\n",
       "      <th>2</th>\n",
       "      <td>MichelleBot</td>\n",
       "      <td>Valley of Fire @ Valley of Fire State Park htt...</td>\n",
       "    </tr>\n",
       "    <tr>\n",
       "      <th>3</th>\n",
       "      <td>Mult Co Fire/EMS log</td>\n",
       "      <td>MED - MEDICAL at 2000 BLOCK OF NE RODNEY AVE, ...</td>\n",
       "    </tr>\n",
       "    <tr>\n",
       "      <th>4</th>\n",
       "      <td>Houdini</td>\n",
       "      <td>Special shout out to @m0llyk4y for comin throu...</td>\n",
       "    </tr>\n",
       "  </tbody>\n",
       "</table>\n",
       "</div>"
      ],
      "text/plain": [
       "               username                                               text\n",
       "0  Mult Co Fire/EMS log  MED - MEDICAL at 700 BLOCK OF NE 78TH AVE, POR...\n",
       "1  Mult Co Fire/EMS log  MED - MEDICAL at SE 32ND AVE / SE JOHNSON CREE...\n",
       "2           MichelleBot  Valley of Fire @ Valley of Fire State Park htt...\n",
       "3  Mult Co Fire/EMS log  MED - MEDICAL at 2000 BLOCK OF NE RODNEY AVE, ...\n",
       "4               Houdini  Special shout out to @m0llyk4y for comin throu..."
      ]
     },
     "execution_count": 240,
     "metadata": {},
     "output_type": "execute_result"
    }
   ],
   "source": [
    "df = df[[\"username\", \"text\"]]\n",
    "\n",
    "df.head(5)"
   ]
  },
  {
   "cell_type": "markdown",
   "metadata": {},
   "source": [
    "### Clean HTML,  Make Lowercase, Remove Links"
   ]
  },
  {
   "cell_type": "markdown",
   "metadata": {},
   "source": [
    "Many of the texts contain non-letters, uppercase letters, `URL` links, or `hashtags` that will need to be removed for EDA.\n",
    "\n",
    "**Example Below:**"
   ]
  },
  {
   "cell_type": "code",
   "execution_count": 241,
   "metadata": {
    "ExecuteTime": {
     "end_time": "2020-05-09T19:30:44.695409Z",
     "start_time": "2020-05-09T19:30:44.691578Z"
    },
    "scrolled": true
   },
   "outputs": [
    {
     "data": {
      "text/plain": [
       "'Special shout out to @m0llyk4y for comin through with the fire video   @ Downtown Long Beach https://www.instagram.com/p/BqiroLnBHjY/?utm_source=ig_twitter_share&igshid=1bftkxvhtu83w\\xa0…'"
      ]
     },
     "execution_count": 241,
     "metadata": {},
     "output_type": "execute_result"
    }
   ],
   "source": [
    "df[\"text\"][4]"
   ]
  },
  {
   "cell_type": "code",
   "execution_count": 242,
   "metadata": {
    "ExecuteTime": {
     "end_time": "2020-05-09T19:30:45.087327Z",
     "start_time": "2020-05-09T19:30:45.083209Z"
    }
   },
   "outputs": [],
   "source": [
    "def clean_df(data, col):\n",
    "    \n",
    "    # REMOVE URL LINKS \n",
    "    data[col] = data[col].replace(r'http\\S+', '', regex=True).replace(r'www\\S+', '', regex=True) \n",
    "    # https://stackoverflow.com/questions/51994254/removing-url-from-a-column-in-pandas-dataframe\n",
    "    \n",
    "    # REMOVE NON-LETTERS:\n",
    "    data[col] = data[col].str.replace('[^a-zA-Z]', ' ')\n",
    "    \n",
    "    # MAKE LOWERCASE:\n",
    "    data[col] = data[col].str.lower()\n",
    "    \n",
    "    return data"
   ]
  },
  {
   "cell_type": "code",
   "execution_count": 243,
   "metadata": {
    "ExecuteTime": {
     "end_time": "2020-05-09T19:30:46.691543Z",
     "start_time": "2020-05-09T19:30:46.548577Z"
    }
   },
   "outputs": [
    {
     "data": {
      "text/html": [
       "<div>\n",
       "<style scoped>\n",
       "    .dataframe tbody tr th:only-of-type {\n",
       "        vertical-align: middle;\n",
       "    }\n",
       "\n",
       "    .dataframe tbody tr th {\n",
       "        vertical-align: top;\n",
       "    }\n",
       "\n",
       "    .dataframe thead th {\n",
       "        text-align: right;\n",
       "    }\n",
       "</style>\n",
       "<table border=\"1\" class=\"dataframe\">\n",
       "  <thead>\n",
       "    <tr style=\"text-align: right;\">\n",
       "      <th></th>\n",
       "      <th>username</th>\n",
       "      <th>text</th>\n",
       "    </tr>\n",
       "  </thead>\n",
       "  <tbody>\n",
       "    <tr>\n",
       "      <th>0</th>\n",
       "      <td>mult co fire ems log</td>\n",
       "      <td>med   medical at     block of ne   th ave  por...</td>\n",
       "    </tr>\n",
       "    <tr>\n",
       "      <th>1</th>\n",
       "      <td>mult co fire ems log</td>\n",
       "      <td>med   medical at se   nd ave   se johnson cree...</td>\n",
       "    </tr>\n",
       "    <tr>\n",
       "      <th>2</th>\n",
       "      <td>michellebot</td>\n",
       "      <td>valley of fire   valley of fire state park</td>\n",
       "    </tr>\n",
       "    <tr>\n",
       "      <th>3</th>\n",
       "      <td>mult co fire ems log</td>\n",
       "      <td>med   medical at      block of ne rodney ave  ...</td>\n",
       "    </tr>\n",
       "    <tr>\n",
       "      <th>4</th>\n",
       "      <td>houdini</td>\n",
       "      <td>special shout out to  m llyk y for comin throu...</td>\n",
       "    </tr>\n",
       "    <tr>\n",
       "      <th>...</th>\n",
       "      <td>...</td>\n",
       "      <td>...</td>\n",
       "    </tr>\n",
       "    <tr>\n",
       "      <th>11779</th>\n",
       "      <td>scott sanders</td>\n",
       "      <td>pray for calabasas  and thousand oaks  this fi...</td>\n",
       "    </tr>\n",
       "    <tr>\n",
       "      <th>11780</th>\n",
       "      <td>john meredith</td>\n",
       "      <td>east bay area smoke has turned the sun red    ...</td>\n",
       "    </tr>\n",
       "    <tr>\n",
       "      <th>11781</th>\n",
       "      <td>wildfire bot  wa or  unofficial</td>\n",
       "      <td>buttonfire unofficial new fire report  detail...</td>\n",
       "    </tr>\n",
       "    <tr>\n",
       "      <th>11782</th>\n",
       "      <td>d j  grothe</td>\n",
       "      <td>fire haze in sonoma right now  too    fairmont...</td>\n",
       "    </tr>\n",
       "    <tr>\n",
       "      <th>11783</th>\n",
       "      <td>jane loveday</td>\n",
       "      <td>i can help you live here in paradise too  jus...</td>\n",
       "    </tr>\n",
       "  </tbody>\n",
       "</table>\n",
       "<p>11784 rows × 2 columns</p>\n",
       "</div>"
      ],
      "text/plain": [
       "                                 username  \\\n",
       "0                    mult co fire ems log   \n",
       "1                    mult co fire ems log   \n",
       "2                             michellebot   \n",
       "3                    mult co fire ems log   \n",
       "4                                 houdini   \n",
       "...                                   ...   \n",
       "11779                       scott sanders   \n",
       "11780                       john meredith   \n",
       "11781  wildfire bot  wa or  unofficial      \n",
       "11782                         d j  grothe   \n",
       "11783                        jane loveday   \n",
       "\n",
       "                                                    text  \n",
       "0      med   medical at     block of ne   th ave  por...  \n",
       "1      med   medical at se   nd ave   se johnson cree...  \n",
       "2          valley of fire   valley of fire state park     \n",
       "3      med   medical at      block of ne rodney ave  ...  \n",
       "4      special shout out to  m llyk y for comin throu...  \n",
       "...                                                  ...  \n",
       "11779  pray for calabasas  and thousand oaks  this fi...  \n",
       "11780  east bay area smoke has turned the sun red    ...  \n",
       "11781   buttonfire unofficial new fire report  detail...  \n",
       "11782  fire haze in sonoma right now  too    fairmont...  \n",
       "11783   i can help you live here in paradise too  jus...  \n",
       "\n",
       "[11784 rows x 2 columns]"
      ]
     },
     "execution_count": 243,
     "metadata": {},
     "output_type": "execute_result"
    }
   ],
   "source": [
    "clean_df(df, \"text\")\n",
    "clean_df(df, \"username\")"
   ]
  },
  {
   "cell_type": "code",
   "execution_count": 244,
   "metadata": {
    "ExecuteTime": {
     "end_time": "2020-05-09T19:30:47.912254Z",
     "start_time": "2020-05-09T19:30:47.908733Z"
    }
   },
   "outputs": [
    {
     "data": {
      "text/plain": [
       "'special shout out to  m llyk y for comin through with the fire video     downtown long beach   '"
      ]
     },
     "execution_count": 244,
     "metadata": {},
     "output_type": "execute_result"
    }
   ],
   "source": [
    "df[\"text\"][4]"
   ]
  },
  {
   "cell_type": "code",
   "execution_count": 245,
   "metadata": {
    "ExecuteTime": {
     "end_time": "2020-05-09T19:30:49.029158Z",
     "start_time": "2020-05-09T19:30:48.988253Z"
    }
   },
   "outputs": [],
   "source": [
    "df.to_csv(\"../datasets/df.csv\")"
   ]
  },
  {
   "cell_type": "code",
   "execution_count": 95,
   "metadata": {
    "ExecuteTime": {
     "end_time": "2020-05-09T17:50:32.832529Z",
     "start_time": "2020-05-09T17:50:32.829819Z"
    }
   },
   "outputs": [],
   "source": [
    "# NEEDS FURTHER IMPLEMENTATION\n",
    "# df.to_sql(\"../datasets/twitter_text\", con=engine)"
   ]
  },
  {
   "cell_type": "markdown",
   "metadata": {},
   "source": [
    "## Data for EDA"
   ]
  },
  {
   "cell_type": "markdown",
   "metadata": {},
   "source": [
    "### Create Keywords"
   ]
  },
  {
   "cell_type": "code",
   "execution_count": 246,
   "metadata": {
    "ExecuteTime": {
     "end_time": "2020-05-09T19:30:51.201887Z",
     "start_time": "2020-05-09T19:30:51.197037Z"
    }
   },
   "outputs": [],
   "source": [
    "# USING PREBUILT CRISIS LEXICON KEYWORDS\n",
    "    # https://crisislex.org/crisis-lexicon.html\n",
    "def create_keywords_list(filepath):\n",
    "    keywords = open(filepath)\n",
    "    clean_text = \"\"\n",
    "    clean_keywords = []\n",
    "    keywords_list = []\n",
    "    result = []\n",
    "    \n",
    "    for keyword in keywords:\n",
    "        keywords_list.append(keyword)\n",
    "\n",
    "    for words in keywords_list:\n",
    "        clean_text = words.replace(\"\\n\", \"\")\n",
    "        clean_keywords.append(clean_text.split())\n",
    "\n",
    "    for i in clean_keywords:\n",
    "        for j in i:\n",
    "            result.append(j)\n",
    "    return result "
   ]
  },
  {
   "cell_type": "code",
   "execution_count": 247,
   "metadata": {
    "ExecuteTime": {
     "end_time": "2020-05-09T19:30:52.560774Z",
     "start_time": "2020-05-09T19:30:52.557391Z"
    }
   },
   "outputs": [],
   "source": [
    "keywords = create_keywords_list(\"../datasets/CrisisLexLexicon/CrisisLexRec.txt\")"
   ]
  },
  {
   "cell_type": "code",
   "execution_count": 248,
   "metadata": {
    "ExecuteTime": {
     "end_time": "2020-05-09T19:30:53.072494Z",
     "start_time": "2020-05-09T19:30:53.068734Z"
    }
   },
   "outputs": [],
   "source": [
    "def check_keywords(data, col, lst):\n",
    "    kw_df = pd.DataFrame()\n",
    "    \n",
    "    for word in data[col]:\n",
    "        if word in lst:\n",
    "            kw_df = kw_df.append(data.loc[data[col].str.contains(word)], ignore_index=True)\n",
    "    return kw_df"
   ]
  },
  {
   "cell_type": "markdown",
   "metadata": {},
   "source": [
    "### Explore Usernames"
   ]
  },
  {
   "cell_type": "code",
   "execution_count": 261,
   "metadata": {
    "ExecuteTime": {
     "end_time": "2020-05-09T19:34:46.363947Z",
     "start_time": "2020-05-09T19:34:46.334037Z"
    },
    "scrolled": false
   },
   "outputs": [
    {
     "data": {
      "text/html": [
       "<div>\n",
       "<style scoped>\n",
       "    .dataframe tbody tr th:only-of-type {\n",
       "        vertical-align: middle;\n",
       "    }\n",
       "\n",
       "    .dataframe tbody tr th {\n",
       "        vertical-align: top;\n",
       "    }\n",
       "\n",
       "    .dataframe thead th {\n",
       "        text-align: right;\n",
       "    }\n",
       "</style>\n",
       "<table border=\"1\" class=\"dataframe\">\n",
       "  <thead>\n",
       "    <tr style=\"text-align: right;\">\n",
       "      <th></th>\n",
       "      <th>username</th>\n",
       "      <th>no_occurences</th>\n",
       "    </tr>\n",
       "  </thead>\n",
       "  <tbody>\n",
       "    <tr>\n",
       "      <th>0</th>\n",
       "      <td>fire</td>\n",
       "      <td>4572</td>\n",
       "    </tr>\n",
       "    <tr>\n",
       "      <th>1</th>\n",
       "      <td>co</td>\n",
       "      <td>4570</td>\n",
       "    </tr>\n",
       "    <tr>\n",
       "      <th>2</th>\n",
       "      <td>log</td>\n",
       "      <td>4569</td>\n",
       "    </tr>\n",
       "    <tr>\n",
       "      <th>3</th>\n",
       "      <td>ems</td>\n",
       "      <td>4556</td>\n",
       "    </tr>\n",
       "    <tr>\n",
       "      <th>4</th>\n",
       "      <td>mult</td>\n",
       "      <td>4555</td>\n",
       "    </tr>\n",
       "    <tr>\n",
       "      <th>...</th>\n",
       "      <td>...</td>\n",
       "      <td>...</td>\n",
       "    </tr>\n",
       "    <tr>\n",
       "      <th>95</th>\n",
       "      <td>jon</td>\n",
       "      <td>18</td>\n",
       "    </tr>\n",
       "    <tr>\n",
       "      <th>96</th>\n",
       "      <td>portland</td>\n",
       "      <td>18</td>\n",
       "    </tr>\n",
       "    <tr>\n",
       "      <th>97</th>\n",
       "      <td>comfort</td>\n",
       "      <td>18</td>\n",
       "    </tr>\n",
       "    <tr>\n",
       "      <th>98</th>\n",
       "      <td>ashley</td>\n",
       "      <td>18</td>\n",
       "    </tr>\n",
       "    <tr>\n",
       "      <th>99</th>\n",
       "      <td>v</td>\n",
       "      <td>18</td>\n",
       "    </tr>\n",
       "  </tbody>\n",
       "</table>\n",
       "<p>100 rows × 2 columns</p>\n",
       "</div>"
      ],
      "text/plain": [
       "    username  no_occurences\n",
       "0       fire           4572\n",
       "1         co           4570\n",
       "2        log           4569\n",
       "3        ems           4556\n",
       "4       mult           4555\n",
       "..       ...            ...\n",
       "95       jon             18\n",
       "96  portland             18\n",
       "97   comfort             18\n",
       "98    ashley             18\n",
       "99         v             18\n",
       "\n",
       "[100 rows x 2 columns]"
      ]
     },
     "execution_count": 261,
     "metadata": {},
     "output_type": "execute_result"
    }
   ],
   "source": [
    "# MAJORITY USERNAMES ARE EMS SERVICES\n",
    "# THERE ARE BOTS\n",
    "# THERE ARE EMOJIS\n",
    "\n",
    "# CREATE A TABLE OF 100 MOST COMMON WORDS IN USERNAMES\n",
    "Counter(\" \".join(df[\"username\"]).split()).most_common(100)\n",
    "username_most_occur_df = pd.DataFrame(Counter(\" \".join(df[\"username\"]).split()).most_common(100),\n",
    "                          columns=[\"username\", \"no_occurences\"])\n",
    "\n",
    "username_most_occur_df"
   ]
  },
  {
   "cell_type": "code",
   "execution_count": 250,
   "metadata": {
    "ExecuteTime": {
     "end_time": "2020-05-09T19:31:03.627425Z",
     "start_time": "2020-05-09T19:31:03.623535Z"
    }
   },
   "outputs": [],
   "source": [
    "username_most_occur_df.to_csv(\"../datasets/username-most-freq.csv\")"
   ]
  },
  {
   "cell_type": "code",
   "execution_count": 262,
   "metadata": {
    "ExecuteTime": {
     "end_time": "2020-05-09T19:34:47.937325Z",
     "start_time": "2020-05-09T19:34:47.925920Z"
    },
    "scrolled": true
   },
   "outputs": [
    {
     "data": {
      "text/html": [
       "<div>\n",
       "<style scoped>\n",
       "    .dataframe tbody tr th:only-of-type {\n",
       "        vertical-align: middle;\n",
       "    }\n",
       "\n",
       "    .dataframe tbody tr th {\n",
       "        vertical-align: top;\n",
       "    }\n",
       "\n",
       "    .dataframe thead th {\n",
       "        text-align: right;\n",
       "    }\n",
       "</style>\n",
       "<table border=\"1\" class=\"dataframe\">\n",
       "  <thead>\n",
       "    <tr style=\"text-align: right;\">\n",
       "      <th></th>\n",
       "      <th>username</th>\n",
       "      <th>no_occurences</th>\n",
       "    </tr>\n",
       "  </thead>\n",
       "  <tbody>\n",
       "    <tr>\n",
       "      <th>0</th>\n",
       "      <td>fire</td>\n",
       "      <td>4572</td>\n",
       "    </tr>\n",
       "    <tr>\n",
       "      <th>1</th>\n",
       "      <td>wildfire</td>\n",
       "      <td>196</td>\n",
       "    </tr>\n",
       "    <tr>\n",
       "      <th>2</th>\n",
       "      <td>city</td>\n",
       "      <td>33</td>\n",
       "    </tr>\n",
       "    <tr>\n",
       "      <th>3</th>\n",
       "      <td>news</td>\n",
       "      <td>20</td>\n",
       "    </tr>\n",
       "  </tbody>\n",
       "</table>\n",
       "</div>"
      ],
      "text/plain": [
       "   username  no_occurences\n",
       "0      fire           4572\n",
       "1  wildfire            196\n",
       "2      city             33\n",
       "3      news             20"
      ]
     },
     "execution_count": 262,
     "metadata": {},
     "output_type": "execute_result"
    }
   ],
   "source": [
    "username_keywords = check_keywords(username_most_occur_df, \"username\", keywords)\n",
    "username_keywords"
   ]
  },
  {
   "cell_type": "code",
   "execution_count": 216,
   "metadata": {
    "ExecuteTime": {
     "end_time": "2020-05-09T19:15:01.524981Z",
     "start_time": "2020-05-09T19:15:01.521730Z"
    }
   },
   "outputs": [],
   "source": [
    "username_keywords.to_csv(\"../datasets/username-crisisword-match.csv\")"
   ]
  },
  {
   "cell_type": "markdown",
   "metadata": {},
   "source": [
    "### Explore Text"
   ]
  },
  {
   "cell_type": "code",
   "execution_count": 252,
   "metadata": {
    "ExecuteTime": {
     "end_time": "2020-05-09T19:31:08.015598Z",
     "start_time": "2020-05-09T19:31:07.968778Z"
    }
   },
   "outputs": [
    {
     "data": {
      "text/html": [
       "<div>\n",
       "<style scoped>\n",
       "    .dataframe tbody tr th:only-of-type {\n",
       "        vertical-align: middle;\n",
       "    }\n",
       "\n",
       "    .dataframe tbody tr th {\n",
       "        vertical-align: top;\n",
       "    }\n",
       "\n",
       "    .dataframe thead th {\n",
       "        text-align: right;\n",
       "    }\n",
       "</style>\n",
       "<table border=\"1\" class=\"dataframe\">\n",
       "  <thead>\n",
       "    <tr style=\"text-align: right;\">\n",
       "      <th></th>\n",
       "      <th>text</th>\n",
       "      <th>no_occurences</th>\n",
       "    </tr>\n",
       "  </thead>\n",
       "  <tbody>\n",
       "    <tr>\n",
       "      <th>0</th>\n",
       "      <td>portland</td>\n",
       "      <td>9081</td>\n",
       "    </tr>\n",
       "    <tr>\n",
       "      <th>1</th>\n",
       "      <td>fire</td>\n",
       "      <td>8269</td>\n",
       "    </tr>\n",
       "    <tr>\n",
       "      <th>2</th>\n",
       "      <td>the</td>\n",
       "      <td>6583</td>\n",
       "    </tr>\n",
       "    <tr>\n",
       "      <th>3</th>\n",
       "      <td>of</td>\n",
       "      <td>6328</td>\n",
       "    </tr>\n",
       "    <tr>\n",
       "      <th>4</th>\n",
       "      <td>at</td>\n",
       "      <td>5522</td>\n",
       "    </tr>\n",
       "    <tr>\n",
       "      <th>...</th>\n",
       "      <td>...</td>\n",
       "      <td>...</td>\n",
       "    </tr>\n",
       "    <tr>\n",
       "      <th>95</th>\n",
       "      <td>me</td>\n",
       "      <td>295</td>\n",
       "    </tr>\n",
       "    <tr>\n",
       "      <th>96</th>\n",
       "      <td>who</td>\n",
       "      <td>295</td>\n",
       "    </tr>\n",
       "    <tr>\n",
       "      <th>97</th>\n",
       "      <td>help</td>\n",
       "      <td>291</td>\n",
       "    </tr>\n",
       "    <tr>\n",
       "      <th>98</th>\n",
       "      <td>those</td>\n",
       "      <td>289</td>\n",
       "    </tr>\n",
       "    <tr>\n",
       "      <th>99</th>\n",
       "      <td>just</td>\n",
       "      <td>289</td>\n",
       "    </tr>\n",
       "  </tbody>\n",
       "</table>\n",
       "<p>100 rows × 2 columns</p>\n",
       "</div>"
      ],
      "text/plain": [
       "        text  no_occurences\n",
       "0   portland           9081\n",
       "1       fire           8269\n",
       "2        the           6583\n",
       "3         of           6328\n",
       "4         at           5522\n",
       "..       ...            ...\n",
       "95        me            295\n",
       "96       who            295\n",
       "97      help            291\n",
       "98     those            289\n",
       "99      just            289\n",
       "\n",
       "[100 rows x 2 columns]"
      ]
     },
     "execution_count": 252,
     "metadata": {},
     "output_type": "execute_result"
    }
   ],
   "source": [
    "# CREATE A TABLE OF 100 MOST COMMON WORDS IN THE TEXT OF EACH TWEET\n",
    "text_occur_df = pd.DataFrame(Counter(\" \".join(df[\"text\"]).split()).most_common(100),\n",
    "                             columns=[\"text\", \"no_occurences\"])\n",
    "text_occur_df"
   ]
  },
  {
   "cell_type": "code",
   "execution_count": 253,
   "metadata": {
    "ExecuteTime": {
     "end_time": "2020-05-09T19:31:11.540558Z",
     "start_time": "2020-05-09T19:31:11.536554Z"
    }
   },
   "outputs": [],
   "source": [
    "text_occur_df.to_csv(\"../datasets/text-most-freq.csv\")"
   ]
  },
  {
   "cell_type": "code",
   "execution_count": 254,
   "metadata": {
    "ExecuteTime": {
     "end_time": "2020-05-09T19:31:12.317162Z",
     "start_time": "2020-05-09T19:31:12.305004Z"
    }
   },
   "outputs": [
    {
     "data": {
      "text/html": [
       "<div>\n",
       "<style scoped>\n",
       "    .dataframe tbody tr th:only-of-type {\n",
       "        vertical-align: middle;\n",
       "    }\n",
       "\n",
       "    .dataframe tbody tr th {\n",
       "        vertical-align: top;\n",
       "    }\n",
       "\n",
       "    .dataframe thead th {\n",
       "        text-align: right;\n",
       "    }\n",
       "</style>\n",
       "<table border=\"1\" class=\"dataframe\">\n",
       "  <thead>\n",
       "    <tr style=\"text-align: right;\">\n",
       "      <th></th>\n",
       "      <th>text</th>\n",
       "      <th>no_occurences</th>\n",
       "    </tr>\n",
       "  </thead>\n",
       "  <tbody>\n",
       "    <tr>\n",
       "      <th>0</th>\n",
       "      <td>fire</td>\n",
       "      <td>8269</td>\n",
       "    </tr>\n",
       "    <tr>\n",
       "      <th>1</th>\n",
       "      <td>fires</td>\n",
       "      <td>1188</td>\n",
       "    </tr>\n",
       "    <tr>\n",
       "      <th>2</th>\n",
       "      <td>campfire</td>\n",
       "      <td>635</td>\n",
       "    </tr>\n",
       "    <tr>\n",
       "      <th>3</th>\n",
       "      <td>medical</td>\n",
       "      <td>3432</td>\n",
       "    </tr>\n",
       "    <tr>\n",
       "      <th>4</th>\n",
       "      <td>tonight</td>\n",
       "      <td>629</td>\n",
       "    </tr>\n",
       "    <tr>\n",
       "      <th>5</th>\n",
       "      <td>victims</td>\n",
       "      <td>297</td>\n",
       "    </tr>\n",
       "    <tr>\n",
       "      <th>6</th>\n",
       "      <td>help</td>\n",
       "      <td>291</td>\n",
       "    </tr>\n",
       "  </tbody>\n",
       "</table>\n",
       "</div>"
      ],
      "text/plain": [
       "       text  no_occurences\n",
       "0      fire           8269\n",
       "1     fires           1188\n",
       "2  campfire            635\n",
       "3   medical           3432\n",
       "4   tonight            629\n",
       "5   victims            297\n",
       "6      help            291"
      ]
     },
     "execution_count": 254,
     "metadata": {},
     "output_type": "execute_result"
    }
   ],
   "source": [
    "text_keywords = check_keywords(text_occur_df, \"text\", keywords)\n",
    "text_keywords"
   ]
  },
  {
   "cell_type": "code",
   "execution_count": 255,
   "metadata": {
    "ExecuteTime": {
     "end_time": "2020-05-09T19:31:14.117700Z",
     "start_time": "2020-05-09T19:31:14.114059Z"
    }
   },
   "outputs": [],
   "source": [
    "text_keywords.to_csv(\"../datasets/text-crisisword-match.csv\")"
   ]
  }
 ],
 "metadata": {
  "kernelspec": {
   "display_name": "Python 3",
   "language": "python",
   "name": "python3"
  },
  "language_info": {
   "codemirror_mode": {
    "name": "ipython",
    "version": 3
   },
   "file_extension": ".py",
   "mimetype": "text/x-python",
   "name": "python",
   "nbconvert_exporter": "python",
   "pygments_lexer": "ipython3",
   "version": "3.7.6"
  },
  "toc": {
   "base_numbering": 1,
   "nav_menu": {},
   "number_sections": true,
   "sideBar": true,
   "skip_h1_title": false,
   "title_cell": "Table of Contents",
   "title_sidebar": "Contents",
   "toc_cell": false,
   "toc_position": {},
   "toc_section_display": true,
   "toc_window_display": false
  }
 },
 "nbformat": 4,
 "nbformat_minor": 4
}
